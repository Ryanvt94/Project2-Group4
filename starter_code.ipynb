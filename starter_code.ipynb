{
 "cells": [
  {
   "cell_type": "code",
   "execution_count": 56,
   "metadata": {},
   "outputs": [],
   "source": [
    "import pandas as pd\n",
    "from sqlalchemy import create_engine"
   ]
  },
  {
   "cell_type": "code",
   "execution_count": 57,
   "metadata": {},
   "outputs": [],
   "source": [
    "#import each csv file\n",
    "bumble_file = pd.read_csv('Resources\\hbumble_google_play_reviews.csv')\n",
    "hinge_file = pd.read_csv('Resources\\hinge_google_play_reviews.csv')\n",
    "okcupid_file = pd.read_csv('Resources\\okcupid_google_play_reviews.csv')"
   ]
  },
  {
   "cell_type": "code",
   "execution_count": 58,
   "metadata": {},
   "outputs": [],
   "source": [
    "bumble_file['UniqueID'] = bumble_file['userName'] + bumble_file['userImage'] \n",
    "hinge_file['UniqueID'] = hinge_file['userName'] + hinge_file['userImage'] \n",
    "okcupid_file['UniqueID'] = okcupid_file['userName'] + okcupid_file['userImage'] "
   ]
  },
  {
   "cell_type": "code",
   "execution_count": 59,
   "metadata": {},
   "outputs": [],
   "source": [
    "# Create a filtered dataframe from specific columns\n",
    "bumble_cols = [\"userName\", \"userImage\", \"score\", \"thumbsUpCount\", \"at\", \"UniqueID\"]\n",
    "bumble_transformed= bumble_file[bumble_cols].copy()\n",
    "\n",
    "# Rename the column headers\n",
    "bumble_transformed = bumble_transformed.rename(columns={\"UniqueID\":\"UniqueID\",\n",
    "                                                        \"userName\": \"UserName\", \n",
    "                                                        \"userImage\": \"UserImage\", \n",
    "                                                        \"score\": \"Rating\", \n",
    "                                                        \"thumbsUpCount\": \"ThumpsUpCount\", \n",
    "                                                        \"at\": \"CreatedDate\"})\n",
    "\n",
    "# Clean the data by dropping duplicates and setting the index\n",
    "bumble_transformed.drop_duplicates(subset = [\"UniqueID\"], inplace=True)\n",
    "bumble_transformed.set_index([\"UniqueID\"], inplace=True)\n",
    "bumble_transformed_df = bumble_transformed\n",
    "\n",
    "bumble_transformed_df.to_csv('bumble_transformed_df.csv')"
   ]
  },
  {
   "cell_type": "code",
   "execution_count": 68,
   "metadata": {},
   "outputs": [
    {
     "data": {
      "text/plain": [
       "281745"
      ]
     },
     "execution_count": 68,
     "metadata": {},
     "output_type": "execute_result"
    }
   ],
   "source": [
    "bumble_rating = bumble_transformed_df['Rating'].sum()\n",
    "bumble_rating"
   ]
  },
  {
   "cell_type": "code",
   "execution_count": 60,
   "metadata": {},
   "outputs": [],
   "source": [
    "# Create a filtered dataframe from specific columns\n",
    "hinge_cols = [\"userName\", \"userImage\", \"score\", \"thumbsUpCount\", \"at\", \"UniqueID\"]\n",
    "hinge_transformed= hinge_file[bumble_cols].copy()\n",
    "\n",
    "# Rename the column headers\n",
    "hinge_transformed = hinge_transformed.rename(columns={\"UniqueID\":\"UniqueID\",\n",
    "                                                        \"userName\": \"UserName\", \n",
    "                                                        \"userImage\": \"UserImage\", \n",
    "                                                        \"score\": \"Rating\", \n",
    "                                                        \"thumbsUpCount\": \"ThumpsUpCount\", \n",
    "                                                        \"at\": \"CreatedDate\"})\n",
    "\n",
    "# Clean the data by dropping duplicates and setting the index\n",
    "hinge_transformed.drop_duplicates(subset = [\"UniqueID\"], inplace=True)\n",
    "hinge_transformed.set_index([\"UniqueID\"], inplace=True)\n",
    "\n",
    "hinge_transformed_df = hinge_transformed\n",
    "\n",
    "hinge_transformed_df.to_csv('hinge_transformed_df.csv')"
   ]
  },
  {
   "cell_type": "code",
   "execution_count": 61,
   "metadata": {},
   "outputs": [],
   "source": [
    "# Create a filtered dataframe from specific columns\n",
    "okcupid_cols = [\"userName\", \"userImage\", \"score\", \"thumbsUpCount\", \"at\", \"UniqueID\"]\n",
    "okcupid_transformed= okcupid_file[bumble_cols].copy()\n",
    "\n",
    "# Rename the column headers\n",
    "okcupid_transformed = okcupid_transformed.rename(columns={\"UniqueID\":\"UniqueID\",\n",
    "                                                        \"userName\": \"UserName\", \n",
    "                                                        \"userImage\": \"UserImage\", \n",
    "                                                        \"score\": \"Rating\", \n",
    "                                                        \"thumbsUpCount\": \"ThumpsUpCount\", \n",
    "                                                        \"at\": \"CreatedDate\"})\n",
    "\n",
    "# Clean the data by dropping duplicates and setting the index\n",
    "okcupid_transformed.drop_duplicates(subset = [\"UniqueID\"], inplace=True)\n",
    "okcupid_transformed.set_index([\"UniqueID\"], inplace=True)\n",
    "\n",
    "okcupid_transformed_df = okcupid_transformed\n",
    "\n",
    "okcupid_transformed_df.to_csv('okcupid_transformed_df.csv')"
   ]
  },
  {
   "cell_type": "code",
   "execution_count": 62,
   "metadata": {},
   "outputs": [],
   "source": [
    "# connection_string = 'postgres:admin@localhost:5432/Databases'\n",
    "# engine = create_engine(f'postgresql://{connection_string}')\n",
    "\n",
    "rds_connection_string = \"postgres:admin@localhost:5432/Project2\"\n",
    "engine = create_engine(f'postgresql://{rds_connection_string}')\n"
   ]
  },
  {
   "cell_type": "code",
   "execution_count": 63,
   "metadata": {},
   "outputs": [
    {
     "data": {
      "text/plain": [
       "<sqlalchemy.engine.base.Connection at 0x1d33fe38910>"
      ]
     },
     "execution_count": 63,
     "metadata": {},
     "output_type": "execute_result"
    }
   ],
   "source": [
    "engine.connect()"
   ]
  },
  {
   "cell_type": "code",
   "execution_count": 64,
   "metadata": {},
   "outputs": [],
   "source": [
    "#load the dataframes into sql\n",
    "bumble_transformed_df.to_sql(name='premise', con=engine, if_exists='append', index=True)\n",
    "hinge_transformed_df.to_sql(name='premise', con=engine, if_exists='append', index=True)\n",
    "okcupid_transformed_df.to_sql(name='premise', con=engine, if_exists='append', index=True)"
   ]
  },
  {
   "cell_type": "code",
   "execution_count": null,
   "metadata": {},
   "outputs": [],
   "source": []
  }
 ],
 "metadata": {
  "interpreter": {
   "hash": "6b24a5c7edbea8b0ce6ef47f62501b6413817b7d55a1059536e933855f6123df"
  },
  "kernelspec": {
   "display_name": "Python 3.9.7 ('base')",
   "language": "python",
   "name": "python3"
  },
  "language_info": {
   "codemirror_mode": {
    "name": "ipython",
    "version": 3
   },
   "file_extension": ".py",
   "mimetype": "text/x-python",
   "name": "python",
   "nbconvert_exporter": "python",
   "pygments_lexer": "ipython3",
   "version": "3.9.7"
  },
  "orig_nbformat": 4
 },
 "nbformat": 4,
 "nbformat_minor": 2
}
