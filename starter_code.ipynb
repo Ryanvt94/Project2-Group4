{
 "cells": [
  {
   "cell_type": "code",
   "execution_count": 14,
   "metadata": {},
   "outputs": [],
   "source": [
    "import pandas as pd\n",
    "from sqlalchemy import create_engine\n",
    "import matplotlib.pyplot as plt"
   ]
  },
  {
   "cell_type": "code",
   "execution_count": 15,
   "metadata": {},
   "outputs": [],
   "source": [
    "#import each csv file\n",
    "bumble_file = pd.read_csv('Resources\\hbumble_google_play_reviews.csv')\n",
    "hinge_file = pd.read_csv('Resources\\hinge_google_play_reviews.csv')\n",
    "okcupid_file = pd.read_csv('Resources\\okcupid_google_play_reviews.csv')"
   ]
  },
  {
   "cell_type": "code",
   "execution_count": 16,
   "metadata": {},
   "outputs": [],
   "source": [
    "#combine username and userimage to create a unique id\n",
    "bumble_file['UniqueID'] = bumble_file['userName'] + bumble_file['userImage'] \n",
    "hinge_file['UniqueID'] = hinge_file['userName'] + hinge_file['userImage'] \n",
    "okcupid_file['UniqueID'] = okcupid_file['userName'] + okcupid_file['userImage'] "
   ]
  },
  {
   "cell_type": "code",
   "execution_count": 17,
   "metadata": {},
   "outputs": [],
   "source": [
    "# Create a filtered dataframe from specific columns\n",
    "bumble_cols = [\"userName\", \"userImage\", \"score\", \"thumbsUpCount\", \"at\", \"UniqueID\"]\n",
    "bumble_transformed= bumble_file[bumble_cols].copy()\n",
    "\n",
    "# Rename the column headers\n",
    "bumble_transformed = bumble_transformed.rename(columns={\"UniqueID\":\"UniqueID\",\n",
    "                                                        \"userName\": \"UserName\", \n",
    "                                                        \"userImage\": \"UserImage\", \n",
    "                                                        \"score\": \"Rating\", \n",
    "                                                        \"thumbsUpCount\": \"ThumpsUpCount\", \n",
    "                                                        \"at\": \"CreatedDate\"})\n",
    "\n",
    "# Clean the data by dropping duplicates and setting the index\n",
    "bumble_transformed.drop_duplicates(subset = [\"UniqueID\"], inplace=True)\n",
    "bumble_transformed.set_index([\"UniqueID\"], inplace=True)\n",
    "bumble_transformed_df = bumble_transformed\n",
    "\n",
    "bumble_transformed_df.to_csv('bumble_transformed_df.csv')"
   ]
  },
  {
   "cell_type": "code",
   "execution_count": 18,
   "metadata": {},
   "outputs": [],
   "source": [
    "# Create a filtered dataframe from specific columns\n",
    "hinge_cols = [\"userName\", \"userImage\", \"score\", \"thumbsUpCount\", \"at\", \"UniqueID\"]\n",
    "hinge_transformed= hinge_file[bumble_cols].copy()\n",
    "\n",
    "# Rename the column headers\n",
    "hinge_transformed = hinge_transformed.rename(columns={\"UniqueID\":\"UniqueID\",\n",
    "                                                        \"userName\": \"UserName\", \n",
    "                                                        \"userImage\": \"UserImage\", \n",
    "                                                        \"score\": \"Rating\", \n",
    "                                                        \"thumbsUpCount\": \"ThumpsUpCount\", \n",
    "                                                        \"at\": \"CreatedDate\"})\n",
    "\n",
    "# Clean the data by dropping duplicates and setting the index\n",
    "hinge_transformed.drop_duplicates(subset = [\"UniqueID\"], inplace=True)\n",
    "hinge_transformed.set_index([\"UniqueID\"], inplace=True)\n",
    "\n",
    "hinge_transformed_df = hinge_transformed\n",
    "\n",
    "hinge_transformed_df.to_csv('hinge_transformed_df.csv')"
   ]
  },
  {
   "cell_type": "code",
   "execution_count": 20,
   "metadata": {},
   "outputs": [],
   "source": [
    "# Create a filtered dataframe from specific columns\n",
    "okcupid_cols = [\"userName\", \"userImage\", \"score\", \"thumbsUpCount\", \"at\", \"UniqueID\"]\n",
    "okcupid_transformed= okcupid_file[bumble_cols].copy()\n",
    "\n",
    "# Rename the column headers\n",
    "okcupid_transformed = okcupid_transformed.rename(columns={\"UniqueID\":\"UniqueID\",\n",
    "                                                        \"userName\": \"UserName\", \n",
    "                                                        \"userImage\": \"UserImage\", \n",
    "                                                        \"score\": \"Rating\", \n",
    "                                                        \"thumbsUpCount\": \"ThumpsUpCount\", \n",
    "                                                        \"at\": \"CreatedDate\"})\n",
    "\n",
    "# Clean the data by dropping duplicates and setting the index\n",
    "okcupid_transformed.drop_duplicates(subset = [\"UniqueID\"], inplace=True)\n",
    "okcupid_transformed.set_index([\"UniqueID\"], inplace=True)\n",
    "\n",
    "okcupid_transformed_df = okcupid_transformed\n",
    "\n",
    "okcupid_transformed_df.to_csv('okcupid_transformed_df.csv')"
   ]
  },
  {
   "cell_type": "code",
   "execution_count": 21,
   "metadata": {},
   "outputs": [
    {
     "data": {
      "image/png": "[encoded data removed]",
      "text/plain": [
       "<Figure size 432x288 with 1 Axes>"
      ]
     },
     "metadata": {
      "needs_background": "light"
     },
     "output_type": "display_data"
    }
   ],
   "source": [
    "bumble_df = pd.read_csv('bumble_transformed_df.csv')\n",
    "hinge_df = pd.read_csv('hinge_transformed_df.csv')\n",
    "okcupid_df = pd.read_csv('okcupid_transformed_df.csv')\n",
    "\n",
    "okcupid_df= okcupid_df.rename(columns={'Rating':'okcupid rating'})\n",
    "bumble_df= bumble_df.rename(columns={'Rating':'bumble rating'})\n",
    "hinge_df= hinge_df.rename(columns={'Rating':'hinge rating'})\n",
    "\n",
    "dating_df =  pd.merge(bumble_df, hinge_df,\n",
    "                                  how='inner', on=('UniqueID'))\n",
    "\n",
    "dating_all_df= pd.merge(dating_df, okcupid_df, how= 'inner', on=('UniqueID'))\n",
    "\n",
    "\n",
    "dating_ratings= dating_all_df[['bumble rating', 'hinge rating', 'okcupid rating']]\n",
    "dating_ratings\n",
    "\n",
    "\n",
    "dating_dist= pd.DataFrame({'Bumble':dating_ratings['bumble rating']. value_counts(),\n",
    "'Hinge':dating_ratings['hinge rating']. value_counts(),\n",
    "'OKcupid':dating_ratings['okcupid rating']. value_counts()})\n",
    "\n",
    "dating_dist\n",
    "\n",
    "\n",
    "dating_dist.T.plot(kind='bar',xlabel='Dating App',\n",
    "ylabel='Rating Count')\n",
    "plt.savefig(\"Distribution.png\")"
   ]
  },
  {
   "cell_type": "code",
   "execution_count": 22,
   "metadata": {},
   "outputs": [],
   "source": [
    "# connection_string = 'postgres:admin@localhost:5432/Databases'\n",
    "# engine = create_engine(f'postgresql://{connection_string}')\n",
    "\n",
    "rds_connection_string = \"postgres:admin@localhost:5432/Project2\"\n",
    "engine = create_engine(f'postgresql://{rds_connection_string}')\n"
   ]
  },
  {
   "cell_type": "code",
   "execution_count": 23,
   "metadata": {},
   "outputs": [
    {
     "data": {
      "text/plain": [
       "<sqlalchemy.engine.base.Connection at 0x1c7170f3310>"
      ]
     },
     "execution_count": 23,
     "metadata": {},
     "output_type": "execute_result"
    }
   ],
   "source": [
    "engine.connect()"
   ]
  },
  {
   "cell_type": "code",
   "execution_count": 24,
   "metadata": {},
   "outputs": [],
   "source": [
    "#load the dataframes into sql\n",
    "bumble_transformed_df.to_sql(name='premise', con=engine, if_exists='append', index=True)\n",
    "hinge_transformed_df.to_sql(name='premise', con=engine, if_exists='append', index=True)\n",
    "okcupid_transformed_df.to_sql(name='premise', con=engine, if_exists='append', index=True)"
   ]
  },
  {
   "cell_type": "code",
   "execution_count": null,
   "metadata": {},
   "outputs": [],
   "source": []
  }
 ],
 "metadata": {
  "interpreter": {
   "hash": "6b24a5c7edbea8b0ce6ef47f62501b6413817b7d55a1059536e933855f6123df"
  },
  "kernelspec": {
   "display_name": "Python 3.9.7 ('base')",
   "language": "python",
   "name": "python3"
  },
  "language_info": {
   "codemirror_mode": {
    "name": "ipython",
    "version": 3
   },
   "file_extension": ".py",
   "mimetype": "text/x-python",
   "name": "python",
   "nbconvert_exporter": "python",
   "pygments_lexer": "ipython3",
   "version": "3.9.7"
  },
  "orig_nbformat": 4
 },
 "nbformat": 4,
 "nbformat_minor": 2
}
